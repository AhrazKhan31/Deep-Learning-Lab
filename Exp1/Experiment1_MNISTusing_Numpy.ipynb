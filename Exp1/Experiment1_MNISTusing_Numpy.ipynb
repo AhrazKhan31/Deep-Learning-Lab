{
  "nbformat": 4,
  "nbformat_minor": 0,
  "metadata": {
    "colab": {
      "provenance": [],
      "authorship_tag": "ABX9TyMxCo/A1DKZVvMxTzkdW1BF",
      "include_colab_link": true
    },
    "kernelspec": {
      "name": "python3",
      "display_name": "Python 3"
    },
    "language_info": {
      "name": "python"
    }
  },
  "cells": [
    {
      "cell_type": "markdown",
      "metadata": {
        "id": "view-in-github",
        "colab_type": "text"
      },
      "source": [
        "<a href=\"https://colab.research.google.com/github/AhrazKhan31/Deep-Learning-Lab/blob/main/Experiment1_MNISTusing_Numpy.ipynb\" target=\"_parent\"><img src=\"https://colab.research.google.com/assets/colab-badge.svg\" alt=\"Open In Colab\"/></a>"
      ]
    },
    {
      "cell_type": "code",
      "execution_count": null,
      "metadata": {
        "id": "xYfMsWF76A9M"
      },
      "outputs": [],
      "source": [
        "from google.colab import drive"
      ]
    },
    {
      "cell_type": "code",
      "source": [
        "drive.mount('/content/drive')"
      ],
      "metadata": {
        "colab": {
          "base_uri": "https://localhost:8080/"
        },
        "id": "jZVs5tCD7smY",
        "outputId": "e949f6aa-05ae-4b6c-ccd5-bdfcdd575ae2",
        "collapsed": true
      },
      "execution_count": null,
      "outputs": [
        {
          "output_type": "stream",
          "name": "stdout",
          "text": [
            "Mounted at /content/drive\n"
          ]
        }
      ]
    },
    {
      "cell_type": "code",
      "source": [
        "import numpy as np\n",
        "import pandas as pd\n",
        "import matplotlib.pyplot as plt"
      ],
      "metadata": {
        "id": "H6tHA3-x70fg"
      },
      "execution_count": null,
      "outputs": []
    },
    {
      "cell_type": "code",
      "source": [
        "!pip install idx2numpy"
      ],
      "metadata": {
        "colab": {
          "base_uri": "https://localhost:8080/"
        },
        "id": "ZFuvbBFK8Dq_",
        "outputId": "dbe2d9bc-d327-4c0a-8b0e-936f050d9360"
      },
      "execution_count": null,
      "outputs": [
        {
          "output_type": "stream",
          "name": "stdout",
          "text": [
            "Collecting idx2numpy\n",
            "  Downloading idx2numpy-1.2.3.tar.gz (6.8 kB)\n",
            "  Preparing metadata (setup.py) ... \u001b[?25l\u001b[?25hdone\n",
            "Requirement already satisfied: numpy in /usr/local/lib/python3.11/dist-packages (from idx2numpy) (1.26.4)\n",
            "Requirement already satisfied: six in /usr/local/lib/python3.11/dist-packages (from idx2numpy) (1.17.0)\n",
            "Building wheels for collected packages: idx2numpy\n",
            "  Building wheel for idx2numpy (setup.py) ... \u001b[?25l\u001b[?25hdone\n",
            "  Created wheel for idx2numpy: filename=idx2numpy-1.2.3-py3-none-any.whl size=7904 sha256=fa0590b130f22359e00d544babe5e782e28b098c245dd7f14bba0e505455b46c\n",
            "  Stored in directory: /root/.cache/pip/wheels/87/e5/e7/70fc742b3645ddf9d392f766feccbcc95cb3a3c806f8588af0\n",
            "Successfully built idx2numpy\n",
            "Installing collected packages: idx2numpy\n",
            "Successfully installed idx2numpy-1.2.3\n"
          ]
        }
      ]
    },
    {
      "cell_type": "code",
      "source": [
        "import idx2numpy\n",
        "image_file = '/content/drive/MyDrive/MNIST_data/train-images.idx3-ubyte'\n",
        "label_file = '/content/drive/MyDrive/MNIST_data/train-labels.idx1-ubyte'"
      ],
      "metadata": {
        "id": "0QdVSjZP8KeX"
      },
      "execution_count": null,
      "outputs": []
    },
    {
      "cell_type": "code",
      "source": [
        "images = idx2numpy.convert_from_file(image_file)\n",
        "labels = idx2numpy.convert_from_file(label_file)"
      ],
      "metadata": {
        "id": "oTNCRMSY8gXW"
      },
      "execution_count": null,
      "outputs": []
    },
    {
      "cell_type": "code",
      "source": [
        "import matplotlib.pyplot as plt\n",
        "plt.imshow(images[0], cmap='gray')\n",
        "plt.title(f\"Label: {labels[0]}\")\n",
        "plt.show()"
      ],
      "metadata": {
        "colab": {
          "base_uri": "https://localhost:8080/",
          "height": 452
        },
        "id": "mSm0nkYZ8pPo",
        "outputId": "ada5e261-3fa2-467c-a7c4-7598c902bde4"
      },
      "execution_count": null,
      "outputs": [
        {
          "output_type": "display_data",
          "data": {
            "text/plain": [
              "<Figure size 640x480 with 1 Axes>"
            ],
            "image/png": "[encoded data removed]"
          },
          "metadata": {}
        }
      ]
    },
    {
      "cell_type": "code",
      "source": [
        "num_samples = images.shape[0]\n",
        "num_features = images.shape[1] * images.shape[2]\n",
        "data = images.reshape(num_samples, num_features)\n",
        "\n",
        "data = np.concatenate((labels.reshape(num_samples, 1), data), axis=1)\n",
        "\n",
        "np.random.shuffle(data)\n",
        "\n",
        "data_test = data[0:1000].T\n",
        "Y_test = data_test[0]\n",
        "X_test = data_test[1:num_features + 1]\n",
        "X_test = X_test / 255.\n",
        "\n",
        "data_train = data[1000:num_samples].T\n",
        "Y_train = data_train[0]\n",
        "X_train = data_train[1:num_features + 1]\n",
        "X_train = X_train / 255."
      ],
      "metadata": {
        "id": "8l9LzEi59b-5"
      },
      "execution_count": null,
      "outputs": []
    },
    {
      "cell_type": "code",
      "source": [
        "images.shape[0]"
      ],
      "metadata": {
        "colab": {
          "base_uri": "https://localhost:8080/"
        },
        "id": "7K99NnTnU4qq",
        "outputId": "23344cfd-64d1-4c4c-ad89-ee03deb034fc"
      },
      "execution_count": null,
      "outputs": [
        {
          "output_type": "execute_result",
          "data": {
            "text/plain": [
              "60000"
            ]
          },
          "metadata": {},
          "execution_count": 14
        }
      ]
    },
    {
      "cell_type": "code",
      "source": [
        "images.shape[2]"
      ],
      "metadata": {
        "colab": {
          "base_uri": "https://localhost:8080/"
        },
        "id": "5OKtDCa-Va8X",
        "outputId": "d4c5a270-1f90-4e0d-d3ab-18a5f37dd6b6"
      },
      "execution_count": null,
      "outputs": [
        {
          "output_type": "execute_result",
          "data": {
            "text/plain": [
              "28"
            ]
          },
          "metadata": {},
          "execution_count": 16
        }
      ]
    },
    {
      "cell_type": "code",
      "source": [
        "X_train.shape[0]"
      ],
      "metadata": {
        "colab": {
          "base_uri": "https://localhost:8080/"
        },
        "id": "qYjZSj52-ZnG",
        "outputId": "970972cb-a86d-46ce-e212-871d5d1b08d9"
      },
      "execution_count": null,
      "outputs": [
        {
          "output_type": "execute_result",
          "data": {
            "text/plain": [
              "784"
            ]
          },
          "metadata": {},
          "execution_count": 13
        }
      ]
    },
    {
      "cell_type": "code",
      "source": [
        "def init_params():\n",
        "    W1 = np.random.rand(256, 784) - 0.5\n",
        "    b1 = np.random.rand(256, 1) - 0.5\n",
        "    W2 = np.random.rand(128, 256) - 0.5\n",
        "    b2 = np.random.rand(128, 1) - 0.5\n",
        "    W3 = np.random.rand(10, 128) - 0.5\n",
        "    b3 = np.random.rand(10, 1) - 0.5\n",
        "    return W1, b1, W2, b2, W3, b3"
      ],
      "metadata": {
        "id": "Yg_9Rb6X-1kc"
      },
      "execution_count": null,
      "outputs": []
    },
    {
      "cell_type": "code",
      "source": [
        "def ReLU(Z):\n",
        "    return np.maximum(0, Z)\n",
        "\n",
        "def deriv_ReLU(Z):\n",
        "  return Z > 0\n",
        "\n",
        "def softmax(Z):\n",
        "    A = np.exp(Z) / sum(np.exp(Z))\n",
        "    return A"
      ],
      "metadata": {
        "id": "zyUqAwGLA85m"
      },
      "execution_count": null,
      "outputs": []
    },
    {
      "cell_type": "code",
      "source": [
        "def forward_propagation(X, W1, b1, W2, b2, W3, b3):\n",
        "    Z1 = W1.dot(X) + b1\n",
        "    A1 = ReLU(Z1)\n",
        "    Z2 = W2.dot(A1) + b2\n",
        "    A2 = ReLU(Z2)\n",
        "    Z3 = W3.dot(A2) + b3\n",
        "    A3 = softmax(Z3)\n",
        "    return Z1, A1, Z2, A2, Z3, A3\n",
        "\n",
        "def one_hot(Y):\n",
        "    one_hot_Y=np.zeros((Y.size, Y.max() + 1))\n",
        "    one_hot_Y[np.arange(Y.size), Y] = 1\n",
        "    one_hot_Y = one_hot_Y.T\n",
        "    return one_hot_Y\n",
        "\n",
        "def backward_propagation(X, Y, Z1, A1, Z2, A2, Z3, A3, W1, W2, W3):\n",
        "    m = Y.size\n",
        "    one_hot_Y = one_hot(Y)\n",
        "\n",
        "    dZ3 = A3 - one_hot_Y\n",
        "    dW3 = (1 / m) * dZ3.dot(A2.T)\n",
        "    db3 = (1 / m) * np.sum(dZ3, axis=1, keepdims=True)\n",
        "\n",
        "    dZ2 = W3.T.dot(dZ3) * deriv_ReLU(Z2)\n",
        "    dW2 = (1 / m) * dZ2.dot(A1.T)\n",
        "    db2 = (1 / m) * np.sum(dZ2, axis=1, keepdims=True)\n",
        "\n",
        "    dZ1 = W2.T.dot(dZ2) * deriv_ReLU(Z1)\n",
        "    dW1 = (1 / m) * dZ1.dot(X.T)\n",
        "    db1 = (1 / m) * np.sum(dZ1, axis=1, keepdims=True)\n",
        "\n",
        "    return dW1, db1, dW2, db2, dW3, db3\n",
        "\n",
        "def update_params(W1, b1, W2, b2, W3, b3, dW1, db1, dW2, db2, dW3, db3, alpha):\n",
        "    W1 -= alpha * dW1\n",
        "    b1 -= alpha * db1\n",
        "    W2 -= alpha * dW2\n",
        "    b2 -= alpha * db2\n",
        "    W3 -= alpha * dW3\n",
        "    b3 -= alpha * db3\n",
        "    return W1, b1, W2, b2, W3, b3"
      ],
      "metadata": {
        "id": "26r803RrBKdW"
      },
      "execution_count": null,
      "outputs": []
    },
    {
      "cell_type": "code",
      "source": [
        "def get_predictions(A3):\n",
        "    return np.argmax(A3, 0)\n",
        "\n",
        "def get_accuracy(predictions, Y):\n",
        "    return np.sum(predictions == Y) / Y.size"
      ],
      "metadata": {
        "id": "Y9ZukIVPCFhL"
      },
      "execution_count": null,
      "outputs": []
    },
    {
      "cell_type": "code",
      "source": [
        "def gradient_descent(X, Y, iterations, alpha):\n",
        "    W1, b1, W2, b2, W3, b3 = init_params()\n",
        "    for i in range(iterations):\n",
        "        Z1, A1, Z2, A2, Z3, A3 = forward_propagation(X, W1, b1, W2, b2, W3, b3)\n",
        "        dW1, db1, dW2, db2, dW3, db3 = backward_propagation(X, Y, Z1, A1, Z2, A2, Z3, A3, W1, W2, W3)\n",
        "        W1, b1, W2, b2, W3, b3 = update_params(W1, b1, W2, b2, W3, b3, dW1, db1, dW2, db2, dW3, db3, alpha)\n",
        "\n",
        "        if i % 10 == 0:\n",
        "            print(\"Iteration:\", i)\n",
        "            predictions = get_predictions(A3)\n",
        "            accuracy = get_accuracy(predictions, Y)\n",
        "            print(\"Accuracy:\", accuracy)\n",
        "    return W1, b1, W2, b2, W3, b3"
      ],
      "metadata": {
        "id": "yZnDA483CU02"
      },
      "execution_count": null,
      "outputs": []
    },
    {
      "cell_type": "code",
      "source": [
        "W1, b1, W2, b2, W3, b3 = gradient_descent(X_train, Y_train, 500, 0.1)"
      ],
      "metadata": {
        "colab": {
          "base_uri": "https://localhost:8080/"
        },
        "id": "tsHhBahcCrGC",
        "outputId": "1425de9e-1931-4eff-c5d0-a4c547729326"
      },
      "execution_count": null,
      "outputs": [
        {
          "output_type": "stream",
          "name": "stdout",
          "text": [
            "Iteration: 0\n",
            "Accuracy: 0.0788135593220339\n",
            "Iteration: 10\n",
            "Accuracy: 0.6204406779661017\n",
            "Iteration: 20\n",
            "Accuracy: 0.6972203389830508\n",
            "Iteration: 30\n",
            "Accuracy: 0.7354745762711864\n",
            "Iteration: 40\n",
            "Accuracy: 0.7619152542372881\n",
            "Iteration: 50\n",
            "Accuracy: 0.7811694915254237\n",
            "Iteration: 60\n",
            "Accuracy: 0.7967457627118644\n",
            "Iteration: 70\n",
            "Accuracy: 0.8097966101694916\n",
            "Iteration: 80\n",
            "Accuracy: 0.819864406779661\n",
            "Iteration: 90\n",
            "Accuracy: 0.8289830508474576\n",
            "Iteration: 100\n",
            "Accuracy: 0.8367118644067797\n",
            "Iteration: 110\n",
            "Accuracy: 0.843728813559322\n",
            "Iteration: 120\n",
            "Accuracy: 0.8501525423728814\n",
            "Iteration: 130\n",
            "Accuracy: 0.855406779661017\n",
            "Iteration: 140\n",
            "Accuracy: 0.8601016949152542\n",
            "Iteration: 150\n",
            "Accuracy: 0.8642372881355932\n",
            "Iteration: 160\n",
            "Accuracy: 0.8677457627118644\n",
            "Iteration: 170\n",
            "Accuracy: 0.871457627118644\n",
            "Iteration: 180\n",
            "Accuracy: 0.8747288135593221\n",
            "Iteration: 190\n",
            "Accuracy: 0.8777457627118644\n",
            "Iteration: 200\n",
            "Accuracy: 0.8807288135593221\n",
            "Iteration: 210\n",
            "Accuracy: 0.8837627118644068\n",
            "Iteration: 220\n",
            "Accuracy: 0.8859322033898305\n",
            "Iteration: 230\n",
            "Accuracy: 0.8883728813559322\n",
            "Iteration: 240\n",
            "Accuracy: 0.8902033898305085\n",
            "Iteration: 250\n",
            "Accuracy: 0.8920508474576271\n",
            "Iteration: 260\n",
            "Accuracy: 0.8940169491525424\n",
            "Iteration: 270\n",
            "Accuracy: 0.895593220338983\n",
            "Iteration: 280\n",
            "Accuracy: 0.8975084745762711\n",
            "Iteration: 290\n",
            "Accuracy: 0.8992033898305085\n",
            "Iteration: 300\n",
            "Accuracy: 0.9005762711864407\n",
            "Iteration: 310\n",
            "Accuracy: 0.9021694915254237\n",
            "Iteration: 320\n",
            "Accuracy: 0.9034915254237288\n",
            "Iteration: 330\n",
            "Accuracy: 0.9046949152542373\n",
            "Iteration: 340\n",
            "Accuracy: 0.9058474576271186\n",
            "Iteration: 350\n",
            "Accuracy: 0.9071016949152543\n",
            "Iteration: 360\n",
            "Accuracy: 0.908271186440678\n",
            "Iteration: 370\n",
            "Accuracy: 0.9092542372881356\n",
            "Iteration: 380\n",
            "Accuracy: 0.9103220338983051\n",
            "Iteration: 390\n",
            "Accuracy: 0.9113220338983051\n",
            "Iteration: 400\n",
            "Accuracy: 0.9122881355932203\n",
            "Iteration: 410\n",
            "Accuracy: 0.9132033898305085\n",
            "Iteration: 420\n",
            "Accuracy: 0.9139491525423729\n",
            "Iteration: 430\n",
            "Accuracy: 0.9152203389830509\n",
            "Iteration: 440\n",
            "Accuracy: 0.9161016949152543\n",
            "Iteration: 450\n",
            "Accuracy: 0.9171186440677966\n",
            "Iteration: 460\n",
            "Accuracy: 0.9179152542372881\n",
            "Iteration: 470\n",
            "Accuracy: 0.9189152542372881\n",
            "Iteration: 480\n",
            "Accuracy: 0.9196949152542373\n",
            "Iteration: 490\n",
            "Accuracy: 0.9205593220338983\n"
          ]
        }
      ]
    },
    {
      "cell_type": "code",
      "source": [
        "def make_predictions(X, W1, b1, W2, b2, W3, b3):\n",
        "    _, _, _, _, _, A3 = forward_propagation(X, W1, b1, W2, b2, W3, b3)\n",
        "    predictions = get_predictions(A3)\n",
        "    return predictions\n",
        "\n",
        "def test_prediction(index, W1, b1, W2, b2, W3, b3):\n",
        "    current_image = X_train[:, index, None]\n",
        "    prediction = make_predictions(X_train[:, index, None], W1, b1, W2, b2, W3, b3)\n",
        "    label = Y_train[index]\n",
        "    print(\"Prediction: \", prediction)\n",
        "    print(\"Label: \", label)\n",
        "\n",
        "    current_image = current_image.reshape((28, 28)) * 255\n",
        "    plt.gray()\n",
        "    plt.imshow(current_image, interpolation='nearest')\n",
        "    plt.show()"
      ],
      "metadata": {
        "id": "0HqAgRpxC6yI"
      },
      "execution_count": null,
      "outputs": []
    },
    {
      "cell_type": "code",
      "source": [
        "test_prediction(0, W1, b1, W2, b2, W3, b3)\n",
        "test_prediction(1, W1, b1, W2, b2, W3, b3)\n",
        "test_prediction(2, W1, b1, W2, b2, W3, b3)\n",
        "test_prediction(3, W1, b1, W2, b2, W3, b3)"
      ],
      "metadata": {
        "colab": {
          "base_uri": "https://localhost:8080/",
          "height": 1000
        },
        "id": "Nb99Rg3vL4uF",
        "outputId": "39cb7046-e916-4e1a-c012-753a07ed4c3a"
      },
      "execution_count": null,
      "outputs": [
        {
          "output_type": "stream",
          "name": "stdout",
          "text": [
            "Prediction:  [9]\n",
            "Label:  9\n"
          ]
        },
        {
          "output_type": "display_data",
          "data": {
            "text/plain": [
              "<Figure size 640x480 with 1 Axes>"
            ],
            "image/png": "[encoded data removed]"
          },
          "metadata": {}
        },
        {
          "output_type": "stream",
          "name": "stdout",
          "text": [
            "Prediction:  [3]\n",
            "Label:  3\n"
          ]
        },
        {
          "output_type": "display_data",
          "data": {
            "text/plain": [
              "<Figure size 640x480 with 1 Axes>"
            ],
            "image/png": "[encoded data removed]"
          },
          "metadata": {}
        },
        {
          "output_type": "stream",
          "name": "stdout",
          "text": [
            "Prediction:  [0]\n",
            "Label:  0\n"
          ]
        },
        {
          "output_type": "display_data",
          "data": {
            "text/plain": [
              "<Figure size 640x480 with 1 Axes>"
            ],
            "image/png": "[encoded data removed]"
          },
          "metadata": {}
        },
        {
          "output_type": "stream",
          "name": "stdout",
          "text": [
            "Prediction:  [5]\n",
            "Label:  5\n"
          ]
        },
        {
          "output_type": "display_data",
          "data": {
            "text/plain": [
              "<Figure size 640x480 with 1 Axes>"
            ],
            "image/png": "[encoded data removed]"
          },
          "metadata": {}
        }
      ]
    },
    {
      "cell_type": "code",
      "source": [
        "test_predictions = make_predictions(X_test, W1, b1, W2, b2, W3, b3)\n",
        "get_accuracy(test_predictions, Y_test)"
      ],
      "metadata": {
        "colab": {
          "base_uri": "https://localhost:8080/"
        },
        "id": "PuXLSwbFNwyg",
        "outputId": "cfebf858-269a-4556-9204-f6de2b51d808"
      },
      "execution_count": null,
      "outputs": [
        {
          "output_type": "execute_result",
          "data": {
            "text/plain": [
              "0.913"
            ]
          },
          "metadata": {},
          "execution_count": 32
        }
      ]
    },
    {
      "cell_type": "code",
      "source": [],
      "metadata": {
        "id": "AnWrWqbxOE-Q"
      },
      "execution_count": null,
      "outputs": []
    }
  ]
}
