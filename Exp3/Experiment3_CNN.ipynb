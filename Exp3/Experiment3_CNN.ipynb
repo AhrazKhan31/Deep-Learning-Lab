{
  "cells": [
    {
      "cell_type": "markdown",
      "metadata": {
        "id": "view-in-github",
        "colab_type": "text"
      },
      "source": [
        "<a href=\"https://colab.research.google.com/github/AhrazKhan31/Deep-Learning-Lab/blob/main/Experiment3_CNN.ipynb\" target=\"_parent\"><img src=\"https://colab.research.google.com/assets/colab-badge.svg\" alt=\"Open In Colab\"/></a>"
      ]
    },
    {
      "cell_type": "code",
      "execution_count": null,
      "metadata": {
        "id": "Yovh4GyCDGVj"
      },
      "outputs": [],
      "source": [
        "import torch\n",
        "import torch.nn as nn\n",
        "import torch.optim as optim\n",
        "import torch.nn.functional as F\n",
        "from torch.utils.data import DataLoader, random_split\n",
        "from torchvision import datasets, transforms, models\n",
        "from torchvision.datasets import ImageFolder\n",
        "import os\n",
        "from collections import defaultdict\n"
      ]
    },
    {
      "cell_type": "code",
      "execution_count": null,
      "metadata": {
        "colab": {
          "base_uri": "https://localhost:8080/"
        },
        "id": "Oq7lFL9IBwIB",
        "outputId": "39604d0f-ec9f-4421-8e93-40b24dbce71f"
      },
      "outputs": [
        {
          "name": "stdout",
          "output_type": "stream",
          "text": [
            "Downloading from https://www.kaggle.com/api/v1/datasets/download/tongpython/cat-and-dog?dataset_version_number=1...\n"
          ]
        },
        {
          "name": "stderr",
          "output_type": "stream",
          "text": [
            "100%|██████████| 218M/218M [00:08<00:00, 25.4MB/s]"
          ]
        },
        {
          "name": "stdout",
          "output_type": "stream",
          "text": [
            "Extracting files...\n"
          ]
        },
        {
          "name": "stderr",
          "output_type": "stream",
          "text": [
            "\n"
          ]
        },
        {
          "name": "stdout",
          "output_type": "stream",
          "text": [
            "Path to dataset files: /root/.cache/kagglehub/datasets/tongpython/cat-and-dog/versions/1\n"
          ]
        }
      ],
      "source": [
        "import kagglehub\n",
        "\n",
        "# Download latest version\n",
        "path = kagglehub.dataset_download(\"tongpython/cat-and-dog\")\n",
        "\n",
        "print(\"Path to dataset files:\", path)"
      ]
    },
    {
      "cell_type": "code",
      "execution_count": null,
      "metadata": {
        "colab": {
          "base_uri": "https://localhost:8080/"
        },
        "id": "CrYlhfusODyy",
        "outputId": "f1fe2b04-66dd-4c9f-99a9-e23f1196c7c9"
      },
      "outputs": [
        {
          "name": "stdout",
          "output_type": "stream",
          "text": [
            "Total samples: 10028\n",
            "Train samples: 8022, Val samples: 2006\n"
          ]
        }
      ],
      "source": [
        "# For Cats vs. Dogs dataset\n",
        "full_data = ImageFolder(root='/root/.cache/kagglehub/datasets/tongpython/cat-and-dog/versions/1')\n",
        "print(f\"Total samples: {len(full_data)}\")\n",
        "\n",
        "# Split into train/val\n",
        "train_size = int(0.8 * len(full_data))\n",
        "val_size = len(full_data) - train_size\n",
        "train_data, val_data = random_split(full_data, [train_size, val_size],\n",
        "                                  generator=torch.Generator().manual_seed(42))  # Fix seed\n",
        "\n",
        "print(f\"Train samples: {len(train_data)}, Val samples: {len(val_data)}\")"
      ]
    },
    {
      "cell_type": "code",
      "execution_count": null,
      "metadata": {
        "id": "vwzq5417ICVg"
      },
      "outputs": [],
      "source": [
        "# Define CNN with dynamic output size\n",
        "class CNN(nn.Module):\n",
        "    def __init__(self, activation_fn, weight_init, num_classes=2):\n",
        "        super(CNN, self).__init__()\n",
        "        self.conv_layers = nn.Sequential(\n",
        "            nn.Conv2d(3, 32, 3, padding=1),\n",
        "            nn.BatchNorm2d(32),\n",
        "            activation_fn(),\n",
        "            nn.MaxPool2d(2),\n",
        "\n",
        "            nn.Conv2d(32, 64, 3, padding=1),\n",
        "            nn.BatchNorm2d(64),\n",
        "            activation_fn(),\n",
        "            nn.MaxPool2d(2),\n",
        "\n",
        "            nn.Conv2d(64, 128, 3, padding=1),\n",
        "            nn.BatchNorm2d(128),\n",
        "            activation_fn(),\n",
        "            nn.MaxPool2d(2)\n",
        "        )\n",
        "        self.fc_layers = nn.Sequential(\n",
        "            nn.Linear(128*4*4, 512),\n",
        "            activation_fn(),\n",
        "            nn.Dropout(0.5),\n",
        "            nn.Linear(512, num_classes)\n",
        "        )\n",
        "\n",
        "        self.activation = activation_fn\n",
        "        self._initialize_weights(weight_init)\n",
        "\n",
        "    def _initialize_weights(self, weight_init):\n",
        "        for m in self.modules():\n",
        "            if isinstance(m, nn.Conv2d) or isinstance(m, nn.Linear):\n",
        "                if weight_init == 'xavier':\n",
        "                    nn.init.xavier_normal_(m.weight)\n",
        "                elif weight_init == 'kaiming':\n",
        "                    nn.init.kaiming_normal_(m.weight, mode='fan_in',\n",
        "                                         nonlinearity='relu' if isinstance(self.activation, nn.ReLU) else 'leaky_relu')\n",
        "                else:\n",
        "                    nn.init.normal_(m.weight, 0, 0.01)\n",
        "                if m.bias is not None:\n",
        "                    nn.init.constant_(m.bias, 0)\n",
        "\n",
        "    def forward(self, x):\n",
        "        x = self.conv_layers(x)\n",
        "        x = x.view(x.size(0), -1)\n",
        "        return self.fc_layers(x)\n"
      ]
    },
    {
      "cell_type": "code",
      "execution_count": null,
      "metadata": {
        "id": "m0ek7CU0Ik5K"
      },
      "outputs": [],
      "source": [
        "# Dataset loader with model-specific preprocessing\n",
        "def load_data(dataset_name, model_type='cnn'):\n",
        "    # Configure preprocessing\n",
        "    if model_type == 'cnn':\n",
        "        resize = 32\n",
        "        normalize = transforms.Normalize((0.5, 0.5, 0.5), (0.5, 0.5, 0.5))\n",
        "    else:  # For ResNet\n",
        "        resize = 224\n",
        "        normalize = transforms.Normalize(mean=[0.485, 0.456, 0.406],\n",
        "                                       std=[0.229, 0.224, 0.225])\n",
        "\n",
        "    transform = transforms.Compose([\n",
        "        transforms.Resize((resize, resize)),\n",
        "        transforms.ToTensor(),\n",
        "        normalize\n",
        "    ])\n",
        "    # Load dataset\n",
        "    if dataset_name == 'cats_vs_dogs':\n",
        "        # For Cats vs. Dogs dataset\n",
        "        full_data = ImageFolder(root='/root/.cache/kagglehub/datasets/tongpython/cat-and-dog/versions/1', transform=transform)\n",
        "        train_data, val_data = random_split(full_data, [train_size, val_size],\n",
        "                                  generator=torch.Generator().manual_seed(42))  # Fix seed\n",
        "        num_classes = 2\n",
        "        test_data = val_data\n",
        "    elif dataset_name == 'cifar10':\n",
        "        train_data = datasets.CIFAR10(root='./data', train=True, download=True,\n",
        "                                    transform=transform)\n",
        "        test_data = datasets.CIFAR10(root='./data', train=False, download=True,\n",
        "                                   transform=transform)\n",
        "        num_classes = 10\n",
        "\n",
        "    return DataLoader(train_data, 64, True), DataLoader(test_data, 64, False), num_classes\n"
      ]
    },
    {
      "cell_type": "code",
      "execution_count": null,
      "metadata": {
        "id": "WqRXFR48Hk-x"
      },
      "outputs": [],
      "source": [
        "def train_and_validate(model, train_loader, test_loader, criterion, optimizer, device, epochs=1, dataset_name=None):\n",
        "    best_acc = 0.0\n",
        "    history = defaultdict(list)\n",
        "\n",
        "    for epoch in range(epochs):\n",
        "        # Training phase\n",
        "        model.train()\n",
        "        train_correct = 0\n",
        "        train_total = 0\n",
        "        running_loss = 0.0\n",
        "        for inputs, labels in train_loader:\n",
        "            inputs, labels = inputs.to(device), labels.to(device)\n",
        "\n",
        "            optimizer.zero_grad()\n",
        "            outputs = model(inputs)\n",
        "            loss = criterion(outputs, labels)\n",
        "            loss.backward()\n",
        "            optimizer.step()\n",
        "\n",
        "            running_loss += loss.item()\n",
        "            _, predicted = torch.max(outputs.data, 1)\n",
        "            train_total += labels.size(0)\n",
        "            train_correct += (predicted == labels).sum().item()\n",
        "\n",
        "        train_acc = train_correct / train_total  # Training accuracy\n",
        "\n",
        "        # Validation phase\n",
        "        model.eval()\n",
        "        val_correct = 0\n",
        "        val_total = 0\n",
        "        with torch.no_grad():\n",
        "            for inputs, labels in test_loader:\n",
        "                inputs, labels = inputs.to(device), labels.to(device)\n",
        "                outputs = model(inputs)\n",
        "                _, predicted = torch.max(outputs.data, 1)\n",
        "                val_total += labels.size(0)\n",
        "                val_correct += (predicted == labels).sum().item()\n",
        "\n",
        "                # Debugging: Print predictions and labels\n",
        "                if val_total < 10:  # Print first 10 samples\n",
        "                   print(f'Predicted: {predicted}')\n",
        "                   print(f'Labels: {labels}')\n",
        "\n",
        "        val_acc = val_correct / val_total  # Validation accuracy\n",
        "        history['train_acc'].append(train_acc)\n",
        "        history['val_acc'].append(val_acc)\n",
        "        history['loss'].append(running_loss / len(train_loader))\n",
        "\n",
        "        # Save best model\n",
        "        if val_acc > best_acc:\n",
        "            best_acc = val_acc\n",
        "            torch.save(model.state_dict(), f'best_{model.__class__.__name__}_{dataset_name}.pth')\n",
        "\n",
        "        print(f'Epoch {epoch+1}/{epochs}, Loss: {running_loss/len(train_loader):.4f}, '\n",
        "              f'Train Acc: {train_acc:.2%}, Val Acc: {val_acc:.2%}')\n",
        "\n",
        "    return best_acc, history"
      ]
    },
    {
      "cell_type": "code",
      "execution_count": null,
      "metadata": {
        "id": "1EKFZtxaJJgr"
      },
      "outputs": [],
      "source": [
        "# Experimentation framework\n",
        "def run_experiments(dataset_name):\n",
        "    device = torch.device('cuda' if torch.cuda.is_available() else 'cpu')\n",
        "    train_loader, test_loader, num_classes = load_data(dataset_name, 'cnn')\n",
        "\n",
        "    best_overall = {'accuracy': 0, 'config': None}\n",
        "\n",
        "    # Hyperparameter combinations\n",
        "    for activation in [nn.ReLU, nn.Tanh, nn.LeakyReLU]:\n",
        "        for init in ['xavier', 'kaiming', 'random']:\n",
        "            for opt in [optim.SGD, optim.Adam, optim.RMSprop]:\n",
        "                print(f'\\nTraining with {activation.__name__}, {init}, {opt.__name__}')\n",
        "\n",
        "                model = CNN(activation, init, num_classes).to(device)\n",
        "                optimizer = opt(model.parameters(), lr=0.001)\n",
        "                criterion = nn.CrossEntropyLoss()\n",
        "\n",
        "                best_acc, _ = train_and_validate(model, train_loader, test_loader,\n",
        "                                               criterion, optimizer, device, dataset_name=dataset_name)\n",
        "\n",
        "                # Compare and update best_overall with detailed information\n",
        "                if best_acc > best_overall['accuracy'] + 1e-4:\n",
        "                    best_overall['accuracy'] = best_acc\n",
        "                    best_overall['config'] = {\n",
        "                        'activation': activation.__name__,\n",
        "                        'init': init,\n",
        "                        'optimizer': opt.__name__,\n",
        "                        'accuracy': best_acc  # Store accuracy in config\n",
        "                    }\n",
        "\n",
        "    print(f'\\nBest configuration: {best_overall[\"config\"]} with accuracy {best_overall[\"accuracy\"]:.2%}')\n"
      ]
    },
    {
      "cell_type": "code",
      "execution_count": null,
      "metadata": {
        "id": "bI9ALbpeJZ_T"
      },
      "outputs": [],
      "source": [
        "# ResNet-18 fine-tuning\n",
        "def run_resnet(dataset_name):\n",
        "    device = torch.device('cuda' if torch.cuda.is_available() else 'cpu')\n",
        "    train_loader, test_loader, num_classes = load_data(dataset_name, 'resnet')\n",
        "\n",
        "    model = models.resnet18(pretrained=True)\n",
        "    model.fc = nn.Linear(model.fc.in_features, num_classes)\n",
        "    model = model.to(device)\n",
        "\n",
        "    optimizer = optim.Adam(model.parameters(), lr=0.001)\n",
        "    criterion = nn.CrossEntropyLoss()\n",
        "\n",
        "    best_acc, _ = train_and_validate(model, train_loader, test_loader,\n",
        "                                   criterion, optimizer, device)\n",
        "\n",
        "    print(f'ResNet-18 achieved {best_acc:.2%} accuracy on {dataset_name}')\n",
        "    torch.save(model.state_dict(), f'best_ResNet18_{dataset_name}.pth')\n"
      ]
    },
    {
      "cell_type": "code",
      "execution_count": null,
      "metadata": {
        "colab": {
          "base_uri": "https://localhost:8080/"
        },
        "id": "c8olgKoXJfjd",
        "outputId": "3e54d0b3-7c83-4789-afff-7fe9b6e0166f"
      },
      "outputs": [
        {
          "name": "stdout",
          "output_type": "stream",
          "text": [
            "\n",
            "========================================\n",
            "Running experiments on cats_vs_dogs\n",
            "========================================\n",
            "\n",
            "Training with ReLU, xavier, SGD\n",
            "Epoch 1/1, Loss: 0.7685, Train Acc: 71.24%, Val Acc: 78.86%\n",
            "\n",
            "Training with ReLU, xavier, Adam\n",
            "Epoch 1/1, Loss: 0.6814, Train Acc: 78.09%, Val Acc: 79.31%\n",
            "\n",
            "Training with ReLU, xavier, RMSprop\n",
            "Epoch 1/1, Loss: 1.6303, Train Acc: 75.90%, Val Acc: 78.12%\n",
            "\n",
            "Training with ReLU, kaiming, SGD\n",
            "Epoch 1/1, Loss: 0.8138, Train Acc: 70.99%, Val Acc: 78.91%\n",
            "\n",
            "Training with ReLU, kaiming, Adam\n",
            "Epoch 1/1, Loss: 0.8847, Train Acc: 77.27%, Val Acc: 79.31%\n",
            "\n",
            "Training with ReLU, kaiming, RMSprop\n",
            "Epoch 1/1, Loss: 1.4673, Train Acc: 76.27%, Val Acc: 79.31%\n",
            "\n",
            "Training with ReLU, random, SGD\n",
            "Epoch 1/1, Loss: 0.5241, Train Acc: 79.62%, Val Acc: 79.31%\n",
            "\n",
            "Training with ReLU, random, Adam\n",
            "Epoch 1/1, Loss: 0.5226, Train Acc: 79.89%, Val Acc: 79.31%\n",
            "\n",
            "Training with ReLU, random, RMSprop\n",
            "Epoch 1/1, Loss: 0.8903, Train Acc: 78.09%, Val Acc: 79.31%\n",
            "\n",
            "Training with Tanh, xavier, SGD\n",
            "Epoch 1/1, Loss: 0.6342, Train Acc: 73.50%, Val Acc: 79.06%\n",
            "\n",
            "Training with Tanh, xavier, Adam\n",
            "Epoch 1/1, Loss: 0.8109, Train Acc: 73.73%, Val Acc: 79.31%\n",
            "\n",
            "Training with Tanh, xavier, RMSprop\n",
            "Epoch 1/1, Loss: 0.8077, Train Acc: 73.87%, Val Acc: 79.31%\n",
            "\n",
            "Training with Tanh, kaiming, SGD\n",
            "Epoch 1/1, Loss: 0.6382, Train Acc: 74.33%, Val Acc: 79.36%\n",
            "\n",
            "Training with Tanh, kaiming, Adam\n",
            "Epoch 1/1, Loss: 0.8222, Train Acc: 73.14%, Val Acc: 79.31%\n",
            "\n",
            "Training with Tanh, kaiming, RMSprop\n",
            "Epoch 1/1, Loss: 0.8553, Train Acc: 74.59%, Val Acc: 79.31%\n",
            "\n",
            "Training with Tanh, random, SGD\n",
            "Epoch 1/1, Loss: 0.5456, Train Acc: 77.97%, Val Acc: 79.31%\n",
            "\n",
            "Training with Tanh, random, Adam\n",
            "Epoch 1/1, Loss: 0.5214, Train Acc: 79.61%, Val Acc: 79.31%\n",
            "\n",
            "Training with Tanh, random, RMSprop\n",
            "Epoch 1/1, Loss: 0.5835, Train Acc: 78.04%, Val Acc: 79.31%\n",
            "\n",
            "Training with LeakyReLU, xavier, SGD\n",
            "Epoch 1/1, Loss: 0.7089, Train Acc: 72.82%, Val Acc: 79.11%\n",
            "\n",
            "Training with LeakyReLU, xavier, Adam\n",
            "Epoch 1/1, Loss: 0.6832, Train Acc: 78.09%, Val Acc: 79.31%\n",
            "\n",
            "Training with LeakyReLU, xavier, RMSprop\n",
            "Epoch 1/1, Loss: 1.4122, Train Acc: 75.47%, Val Acc: 79.31%\n",
            "\n",
            "Training with LeakyReLU, kaiming, SGD\n",
            "Epoch 1/1, Loss: 0.8256, Train Acc: 70.67%, Val Acc: 77.87%\n",
            "\n",
            "Training with LeakyReLU, kaiming, Adam\n",
            "Epoch 1/1, Loss: 0.7944, Train Acc: 77.72%, Val Acc: 79.31%\n",
            "\n",
            "Training with LeakyReLU, kaiming, RMSprop\n",
            "Epoch 1/1, Loss: 1.5954, Train Acc: 75.94%, Val Acc: 79.31%\n",
            "\n",
            "Training with LeakyReLU, random, SGD\n",
            "Epoch 1/1, Loss: 0.5281, Train Acc: 79.52%, Val Acc: 79.31%\n",
            "\n",
            "Training with LeakyReLU, random, Adam\n",
            "Epoch 1/1, Loss: 0.5237, Train Acc: 79.88%, Val Acc: 79.31%\n",
            "\n",
            "Training with LeakyReLU, random, RMSprop\n",
            "Epoch 1/1, Loss: 0.9921, Train Acc: 77.04%, Val Acc: 77.17%\n",
            "\n",
            "Best configuration: {'activation': 'Tanh', 'init': 'kaiming', 'optimizer': 'SGD', 'accuracy': 0.7936191425722832} with accuracy 79.36%\n",
            "\n",
            "========================================\n",
            "Running experiments on cifar10\n",
            "========================================\n",
            "Downloading https://www.cs.toronto.edu/~kriz/cifar-10-python.tar.gz to ./data/cifar-10-python.tar.gz\n"
          ]
        },
        {
          "name": "stderr",
          "output_type": "stream",
          "text": [
            "100%|██████████| 170M/170M [00:01<00:00, 104MB/s]\n"
          ]
        },
        {
          "name": "stdout",
          "output_type": "stream",
          "text": [
            "Extracting ./data/cifar-10-python.tar.gz to ./data\n",
            "Files already downloaded and verified\n",
            "\n",
            "Training with ReLU, xavier, SGD\n",
            "Epoch 1/1, Loss: 2.0606, Train Acc: 28.62%, Val Acc: 42.16%\n",
            "\n",
            "Training with ReLU, xavier, Adam\n",
            "Epoch 1/1, Loss: 1.5068, Train Acc: 46.10%, Val Acc: 60.01%\n",
            "\n",
            "Training with ReLU, xavier, RMSprop\n",
            "Epoch 1/1, Loss: 1.8121, Train Acc: 40.35%, Val Acc: 45.62%\n",
            "\n",
            "Training with ReLU, kaiming, SGD\n",
            "Epoch 1/1, Loss: 2.2150, Train Acc: 24.84%, Val Acc: 39.24%\n",
            "\n",
            "Training with ReLU, kaiming, Adam\n",
            "Epoch 1/1, Loss: 1.5330, Train Acc: 45.04%, Val Acc: 61.16%\n",
            "\n",
            "Training with ReLU, kaiming, RMSprop\n",
            "Epoch 1/1, Loss: 1.7694, Train Acc: 42.08%, Val Acc: 55.12%\n",
            "\n",
            "Training with ReLU, random, SGD\n",
            "Epoch 1/1, Loss: 2.0562, Train Acc: 27.35%, Val Acc: 39.59%\n",
            "\n",
            "Training with ReLU, random, Adam\n",
            "Epoch 1/1, Loss: 1.3647, Train Acc: 50.24%, Val Acc: 61.02%\n",
            "\n",
            "Training with ReLU, random, RMSprop\n",
            "Epoch 1/1, Loss: 1.6199, Train Acc: 41.85%, Val Acc: 47.07%\n",
            "\n",
            "Training with Tanh, xavier, SGD\n",
            "Epoch 1/1, Loss: 2.0610, Train Acc: 27.72%, Val Acc: 41.28%\n",
            "\n",
            "Training with Tanh, xavier, Adam\n",
            "Epoch 1/1, Loss: 1.6439, Train Acc: 44.24%, Val Acc: 56.87%\n",
            "\n",
            "Training with Tanh, xavier, RMSprop\n",
            "Epoch 1/1, Loss: 1.7731, Train Acc: 40.64%, Val Acc: 48.85%\n",
            "\n",
            "Training with Tanh, kaiming, SGD\n",
            "Epoch 1/1, Loss: 2.1870, Train Acc: 24.47%, Val Acc: 38.61%\n",
            "\n",
            "Training with Tanh, kaiming, Adam\n",
            "Epoch 1/1, Loss: 1.6863, Train Acc: 43.30%, Val Acc: 56.96%\n",
            "\n",
            "Training with Tanh, kaiming, RMSprop\n",
            "Epoch 1/1, Loss: 1.7651, Train Acc: 40.96%, Val Acc: 52.83%\n",
            "\n",
            "Training with Tanh, random, SGD\n",
            "Epoch 1/1, Loss: 2.0712, Train Acc: 27.01%, Val Acc: 36.47%\n",
            "\n",
            "Training with Tanh, random, Adam\n",
            "Epoch 1/1, Loss: 1.4603, Train Acc: 46.71%, Val Acc: 53.87%\n",
            "\n",
            "Training with Tanh, random, RMSprop\n",
            "Epoch 1/1, Loss: 1.6015, Train Acc: 41.95%, Val Acc: 44.91%\n",
            "\n",
            "Training with LeakyReLU, xavier, SGD\n",
            "Epoch 1/1, Loss: 2.0499, Train Acc: 28.98%, Val Acc: 43.58%\n",
            "\n",
            "Training with LeakyReLU, xavier, Adam\n",
            "Epoch 1/1, Loss: 1.5626, Train Acc: 44.45%, Val Acc: 59.78%\n",
            "\n",
            "Training with LeakyReLU, xavier, RMSprop\n",
            "Epoch 1/1, Loss: 1.8081, Train Acc: 40.50%, Val Acc: 51.01%\n",
            "\n",
            "Training with LeakyReLU, kaiming, SGD\n",
            "Epoch 1/1, Loss: 2.1969, Train Acc: 25.01%, Val Acc: 39.71%\n",
            "\n",
            "Training with LeakyReLU, kaiming, Adam\n",
            "Epoch 1/1, Loss: 1.5348, Train Acc: 45.47%, Val Acc: 58.42%\n",
            "\n",
            "Training with LeakyReLU, kaiming, RMSprop\n",
            "Epoch 1/1, Loss: 1.9054, Train Acc: 40.76%, Val Acc: 40.51%\n",
            "\n",
            "Training with LeakyReLU, random, SGD\n",
            "Epoch 1/1, Loss: 2.0643, Train Acc: 28.95%, Val Acc: 35.34%\n",
            "\n",
            "Training with LeakyReLU, random, Adam\n",
            "Epoch 1/1, Loss: 1.3830, Train Acc: 49.43%, Val Acc: 58.65%\n",
            "\n",
            "Training with LeakyReLU, random, RMSprop\n",
            "Epoch 1/1, Loss: 1.6012, Train Acc: 42.84%, Val Acc: 45.63%\n",
            "\n",
            "Best configuration: {'activation': 'ReLU', 'init': 'kaiming', 'optimizer': 'Adam', 'accuracy': 0.6116} with accuracy 61.16%\n"
          ]
        }
      ],
      "source": [
        "if __name__ == '__main__':\n",
        "    for dataset in ['cats_vs_dogs', 'cifar10']:\n",
        "        print(f'\\n{\"=\"*40}\\nRunning experiments on {dataset}\\n{\"=\"*40}')\n",
        "        run_experiments(dataset)"
      ]
    },
    {
      "cell_type": "code",
      "execution_count": null,
      "metadata": {
        "colab": {
          "background_save": true,
          "base_uri": "https://localhost:8080/"
        },
        "id": "Y7wXQjo9JmPf",
        "outputId": "41b85996-a86b-4456-9f6c-37ff8a42a9b5"
      },
      "outputs": [
        {
          "name": "stdout",
          "output_type": "stream",
          "text": [
            "\n",
            "========================================\n",
            "Running experiments on cats_vs_dogs\n",
            "========================================\n"
          ]
        },
        {
          "name": "stderr",
          "output_type": "stream",
          "text": [
            "/usr/local/lib/python3.11/dist-packages/torchvision/models/_utils.py:208: UserWarning: The parameter 'pretrained' is deprecated since 0.13 and may be removed in the future, please use 'weights' instead.\n",
            "  warnings.warn(\n",
            "/usr/local/lib/python3.11/dist-packages/torchvision/models/_utils.py:223: UserWarning: Arguments other than a weight enum or `None` for 'weights' are deprecated since 0.13 and may be removed in the future. The current behavior is equivalent to passing `weights=ResNet18_Weights.IMAGENET1K_V1`. You can also use `weights=ResNet18_Weights.DEFAULT` to get the most up-to-date weights.\n",
            "  warnings.warn(msg)\n",
            "Downloading: \"https://download.pytorch.org/models/resnet18-f37072fd.pth\" to /root/.cache/torch/hub/checkpoints/resnet18-f37072fd.pth\n",
            "100%|██████████| 44.7M/44.7M [00:00<00:00, 162MB/s]\n"
          ]
        },
        {
          "name": "stdout",
          "output_type": "stream",
          "text": [
            "Epoch 1/1, Loss: 0.5538, Train Acc: 78.42%, Val Acc: 78.86%\n",
            "ResNet-18 achieved 78.86% accuracy on cats_vs_dogs\n",
            "\n",
            "========================================\n",
            "Running experiments on cifar10\n",
            "========================================\n",
            "Downloading https://www.cs.toronto.edu/~kriz/cifar-10-python.tar.gz to ./data/cifar-10-python.tar.gz\n"
          ]
        },
        {
          "name": "stderr",
          "output_type": "stream",
          "text": [
            "100%|██████████| 170M/170M [00:11<00:00, 14.7MB/s]\n"
          ]
        },
        {
          "name": "stdout",
          "output_type": "stream",
          "text": [
            "Extracting ./data/cifar-10-python.tar.gz to ./data\n",
            "Files already downloaded and verified\n"
          ]
        }
      ],
      "source": [
        "if __name__ == '__main__':\n",
        "    for dataset in ['cats_vs_dogs', 'cifar10']:\n",
        "        print(f'\\n{\"=\"*40}\\nRunning experiments on {dataset}\\n{\"=\"*40}')\n",
        "        run_resnet(dataset)"
      ]
    },
    {
      "cell_type": "code",
      "execution_count": 9,
      "metadata": {
        "colab": {
          "base_uri": "https://localhost:8080/"
        },
        "id": "52vUFz6EsNg8",
        "outputId": "4bc8c14b-3166-47f5-fd3c-e5847a4cd5a3"
      },
      "outputs": [
        {
          "metadata": {
            "tags": null
          },
          "name": "stdout",
          "output_type": "stream",
          "text": [
            "\n",
            "========================================\n",
            "Running experiments on cifar10\n",
            "========================================\n",
            "Downloading https://www.cs.toronto.edu/~kriz/cifar-10-python.tar.gz to ./data/cifar-10-python.tar.gz\n"
          ]
        },
        {
          "metadata": {
            "tags": null
          },
          "name": "stderr",
          "output_type": "stream",
          "text": [
            "100%|██████████| 170M/170M [00:11<00:00, 14.5MB/s]\n"
          ]
        },
        {
          "metadata": {
            "tags": null
          },
          "name": "stdout",
          "output_type": "stream",
          "text": [
            "Extracting ./data/cifar-10-python.tar.gz to ./data\n",
            "Files already downloaded and verified\n"
          ]
        },
        {
          "metadata": {
            "tags": null
          },
          "name": "stderr",
          "output_type": "stream",
          "text": [
            "/usr/local/lib/python3.11/dist-packages/torchvision/models/_utils.py:208: UserWarning: The parameter 'pretrained' is deprecated since 0.13 and may be removed in the future, please use 'weights' instead.\n",
            "  warnings.warn(\n",
            "/usr/local/lib/python3.11/dist-packages/torchvision/models/_utils.py:223: UserWarning: Arguments other than a weight enum or `None` for 'weights' are deprecated since 0.13 and may be removed in the future. The current behavior is equivalent to passing `weights=ResNet18_Weights.IMAGENET1K_V1`. You can also use `weights=ResNet18_Weights.DEFAULT` to get the most up-to-date weights.\n",
            "  warnings.warn(msg)\n",
            "Downloading: \"https://download.pytorch.org/models/resnet18-f37072fd.pth\" to /root/.cache/torch/hub/checkpoints/resnet18-f37072fd.pth\n",
            "100%|██████████| 44.7M/44.7M [00:00<00:00, 103MB/s]\n"
          ]
        },
        {
          "output_type": "stream",
          "name": "stdout",
          "text": [
            "Epoch 1/1, Loss: 0.5561, Train Acc: 81.00%, Val Acc: 84.50%\n",
            "ResNet-18 achieved 84.50% accuracy on cifar10\n"
          ]
        }
      ],
      "source": [
        "if __name__ == '__main__':\n",
        "    for dataset in ['cifar10']:\n",
        "        print(f'\\n{\"=\"*40}\\nRunning experiments on {dataset}\\n{\"=\"*40}')\n",
        "        run_resnet(dataset)"
      ]
    },
    {
      "cell_type": "code",
      "execution_count": null,
      "metadata": {
        "id": "THypo73Sl5Rn"
      },
      "outputs": [],
      "source": []
    }
  ],
  "metadata": {
    "colab": {
      "provenance": [],
      "authorship_tag": "ABX9TyMj341PMpFYYa2D6vX6q/Km",
      "include_colab_link": true
    },
    "kernelspec": {
      "display_name": "Python 3",
      "name": "python3"
    },
    "language_info": {
      "name": "python"
    }
  },
  "nbformat": 4,
  "nbformat_minor": 0
}
